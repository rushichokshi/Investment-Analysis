{
 "cells": [
  {
   "cell_type": "code",
   "execution_count": 7,
   "metadata": {},
   "outputs": [],
   "source": [
    "import pandas as pd\n",
    "import numpy as np\n",
    "import matplotlib.pyplot as plt\n",
    "import seaborn as sns\n",
    "import statistics"
   ]
  },
  {
   "cell_type": "code",
   "execution_count": 5,
   "metadata": {},
   "outputs": [],
   "source": [
    "spy = pd.read_csv('../data/SPY.csv')"
   ]
  },
  {
   "cell_type": "code",
   "execution_count": 6,
   "metadata": {},
   "outputs": [
    {
     "data": {
      "text/html": [
       "<div>\n",
       "<style scoped>\n",
       "    .dataframe tbody tr th:only-of-type {\n",
       "        vertical-align: middle;\n",
       "    }\n",
       "\n",
       "    .dataframe tbody tr th {\n",
       "        vertical-align: top;\n",
       "    }\n",
       "\n",
       "    .dataframe thead th {\n",
       "        text-align: right;\n",
       "    }\n",
       "</style>\n",
       "<table border=\"1\" class=\"dataframe\">\n",
       "  <thead>\n",
       "    <tr style=\"text-align: right;\">\n",
       "      <th></th>\n",
       "      <th>Date</th>\n",
       "      <th>Open</th>\n",
       "      <th>High</th>\n",
       "      <th>Low</th>\n",
       "      <th>Close</th>\n",
       "      <th>Adj Close</th>\n",
       "      <th>Volume</th>\n",
       "    </tr>\n",
       "  </thead>\n",
       "  <tbody>\n",
       "    <tr>\n",
       "      <th>0</th>\n",
       "      <td>2023-02-17</td>\n",
       "      <td>406.059998</td>\n",
       "      <td>407.510010</td>\n",
       "      <td>404.049988</td>\n",
       "      <td>407.260010</td>\n",
       "      <td>401.162872</td>\n",
       "      <td>89257800</td>\n",
       "    </tr>\n",
       "    <tr>\n",
       "      <th>1</th>\n",
       "      <td>2023-02-21</td>\n",
       "      <td>403.059998</td>\n",
       "      <td>404.160004</td>\n",
       "      <td>398.820007</td>\n",
       "      <td>399.089996</td>\n",
       "      <td>393.115173</td>\n",
       "      <td>82655900</td>\n",
       "    </tr>\n",
       "    <tr>\n",
       "      <th>2</th>\n",
       "      <td>2023-02-22</td>\n",
       "      <td>399.519989</td>\n",
       "      <td>401.130005</td>\n",
       "      <td>397.019989</td>\n",
       "      <td>398.540009</td>\n",
       "      <td>392.573425</td>\n",
       "      <td>83742300</td>\n",
       "    </tr>\n",
       "    <tr>\n",
       "      <th>3</th>\n",
       "      <td>2023-02-23</td>\n",
       "      <td>401.559998</td>\n",
       "      <td>402.200012</td>\n",
       "      <td>396.250000</td>\n",
       "      <td>400.660004</td>\n",
       "      <td>394.661652</td>\n",
       "      <td>96242400</td>\n",
       "    </tr>\n",
       "    <tr>\n",
       "      <th>4</th>\n",
       "      <td>2023-02-24</td>\n",
       "      <td>395.420013</td>\n",
       "      <td>397.250000</td>\n",
       "      <td>393.640015</td>\n",
       "      <td>396.380005</td>\n",
       "      <td>390.445709</td>\n",
       "      <td>108194400</td>\n",
       "    </tr>\n",
       "    <tr>\n",
       "      <th>...</th>\n",
       "      <td>...</td>\n",
       "      <td>...</td>\n",
       "      <td>...</td>\n",
       "      <td>...</td>\n",
       "      <td>...</td>\n",
       "      <td>...</td>\n",
       "      <td>...</td>\n",
       "    </tr>\n",
       "    <tr>\n",
       "      <th>246</th>\n",
       "      <td>2024-02-12</td>\n",
       "      <td>501.170013</td>\n",
       "      <td>503.500000</td>\n",
       "      <td>500.239990</td>\n",
       "      <td>500.980011</td>\n",
       "      <td>500.980011</td>\n",
       "      <td>56502300</td>\n",
       "    </tr>\n",
       "    <tr>\n",
       "      <th>247</th>\n",
       "      <td>2024-02-13</td>\n",
       "      <td>494.529999</td>\n",
       "      <td>497.089996</td>\n",
       "      <td>490.720001</td>\n",
       "      <td>494.079987</td>\n",
       "      <td>494.079987</td>\n",
       "      <td>113099200</td>\n",
       "    </tr>\n",
       "    <tr>\n",
       "      <th>248</th>\n",
       "      <td>2024-02-14</td>\n",
       "      <td>496.790009</td>\n",
       "      <td>499.070007</td>\n",
       "      <td>494.399994</td>\n",
       "      <td>498.570007</td>\n",
       "      <td>498.570007</td>\n",
       "      <td>68387800</td>\n",
       "    </tr>\n",
       "    <tr>\n",
       "      <th>249</th>\n",
       "      <td>2024-02-15</td>\n",
       "      <td>499.290009</td>\n",
       "      <td>502.200012</td>\n",
       "      <td>498.799988</td>\n",
       "      <td>502.010010</td>\n",
       "      <td>502.010010</td>\n",
       "      <td>61683000</td>\n",
       "    </tr>\n",
       "    <tr>\n",
       "      <th>250</th>\n",
       "      <td>2024-02-16</td>\n",
       "      <td>501.700012</td>\n",
       "      <td>502.869995</td>\n",
       "      <td>498.750000</td>\n",
       "      <td>499.510010</td>\n",
       "      <td>499.510010</td>\n",
       "      <td>75461200</td>\n",
       "    </tr>\n",
       "  </tbody>\n",
       "</table>\n",
       "<p>251 rows × 7 columns</p>\n",
       "</div>"
      ],
      "text/plain": [
       "           Date        Open        High         Low       Close   Adj Close  \\\n",
       "0    2023-02-17  406.059998  407.510010  404.049988  407.260010  401.162872   \n",
       "1    2023-02-21  403.059998  404.160004  398.820007  399.089996  393.115173   \n",
       "2    2023-02-22  399.519989  401.130005  397.019989  398.540009  392.573425   \n",
       "3    2023-02-23  401.559998  402.200012  396.250000  400.660004  394.661652   \n",
       "4    2023-02-24  395.420013  397.250000  393.640015  396.380005  390.445709   \n",
       "..          ...         ...         ...         ...         ...         ...   \n",
       "246  2024-02-12  501.170013  503.500000  500.239990  500.980011  500.980011   \n",
       "247  2024-02-13  494.529999  497.089996  490.720001  494.079987  494.079987   \n",
       "248  2024-02-14  496.790009  499.070007  494.399994  498.570007  498.570007   \n",
       "249  2024-02-15  499.290009  502.200012  498.799988  502.010010  502.010010   \n",
       "250  2024-02-16  501.700012  502.869995  498.750000  499.510010  499.510010   \n",
       "\n",
       "        Volume  \n",
       "0     89257800  \n",
       "1     82655900  \n",
       "2     83742300  \n",
       "3     96242400  \n",
       "4    108194400  \n",
       "..         ...  \n",
       "246   56502300  \n",
       "247  113099200  \n",
       "248   68387800  \n",
       "249   61683000  \n",
       "250   75461200  \n",
       "\n",
       "[251 rows x 7 columns]"
      ]
     },
     "execution_count": 6,
     "metadata": {},
     "output_type": "execute_result"
    }
   ],
   "source": [
    "spy"
   ]
  },
  {
   "cell_type": "code",
   "execution_count": 8,
   "metadata": {},
   "outputs": [
    {
     "data": {
      "text/plain": [
       "29.152534783846857"
      ]
     },
     "execution_count": 8,
     "metadata": {},
     "output_type": "execute_result"
    }
   ],
   "source": [
    "statistics.stdev(spy['Adj Close'])"
   ]
  },
  {
   "cell_type": "code",
   "execution_count": 9,
   "metadata": {},
   "outputs": [
    {
     "data": {
      "text/plain": [
       "849.8702843234008"
      ]
     },
     "execution_count": 9,
     "metadata": {},
     "output_type": "execute_result"
    }
   ],
   "source": [
    "statistics.variance(spy['Adj Close'])"
   ]
  },
  {
   "cell_type": "code",
   "execution_count": 10,
   "metadata": {},
   "outputs": [
    {
     "data": {
      "text/plain": [
       "<Axes: xlabel='Date'>"
      ]
     },
     "execution_count": 10,
     "metadata": {},
     "output_type": "execute_result"
    },
    {
     "data": {
      "image/png": "[encoded data removed]",
      "text/plain": [
       "<Figure size 640x480 with 1 Axes>"
      ]
     },
     "metadata": {},
     "output_type": "display_data"
    }
   ],
   "source": [
    "spy.plot(x=\"Date\",y=\"Adj Close\",kind=\"line\")"
   ]
  },
  {
   "cell_type": "code",
   "execution_count": null,
   "metadata": {},
   "outputs": [],
   "source": []
  }
 ],
 "metadata": {
  "kernelspec": {
   "display_name": "base",
   "language": "python",
   "name": "python3"
  },
  "language_info": {
   "codemirror_mode": {
    "name": "ipython",
    "version": 3
   },
   "file_extension": ".py",
   "mimetype": "text/x-python",
   "name": "python",
   "nbconvert_exporter": "python",
   "pygments_lexer": "ipython3",
   "version": "3.11.5"
  }
 },
 "nbformat": 4,
 "nbformat_minor": 2
}
