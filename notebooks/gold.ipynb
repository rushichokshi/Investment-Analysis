{
 "cells": [
  {
   "cell_type": "code",
   "execution_count": 1,
   "metadata": {},
   "outputs": [],
   "source": [
    "import pandas as pd\n",
    "import numpy as np\n",
    "import matplotlib.pyplot as plt\n",
    "import seaborn as sns\n",
    "import statistics"
   ]
  },
  {
   "cell_type": "code",
   "execution_count": 10,
   "metadata": {},
   "outputs": [],
   "source": [
    "gold = pd.read_csv('../data/gold.csv')"
   ]
  },
  {
   "cell_type": "code",
   "execution_count": 11,
   "metadata": {},
   "outputs": [
    {
     "data": {
      "text/html": [
       "<div>\n",
       "<style scoped>\n",
       "    .dataframe tbody tr th:only-of-type {\n",
       "        vertical-align: middle;\n",
       "    }\n",
       "\n",
       "    .dataframe tbody tr th {\n",
       "        vertical-align: top;\n",
       "    }\n",
       "\n",
       "    .dataframe thead th {\n",
       "        text-align: right;\n",
       "    }\n",
       "</style>\n",
       "<table border=\"1\" class=\"dataframe\">\n",
       "  <thead>\n",
       "    <tr style=\"text-align: right;\">\n",
       "      <th></th>\n",
       "      <th>Date</th>\n",
       "      <th>High (kg)</th>\n",
       "      <th>Low (kg)</th>\n",
       "      <th>Close (kg)</th>\n",
       "      <th>Unnamed: 4</th>\n",
       "      <th>High (troy oz)</th>\n",
       "      <th>Low (troy oz)</th>\n",
       "      <th>Close (troy oz)</th>\n",
       "      <th>Unnamed: 8</th>\n",
       "    </tr>\n",
       "  </thead>\n",
       "  <tbody>\n",
       "    <tr>\n",
       "      <th>0</th>\n",
       "      <td>00:00:00 17-Feb-2024</td>\n",
       "      <td>65931.94</td>\n",
       "      <td>64662.22</td>\n",
       "      <td>65723.84</td>\n",
       "      <td>NaN</td>\n",
       "      <td>2050.71</td>\n",
       "      <td>2011.22</td>\n",
       "      <td>2044.24</td>\n",
       "      <td>NaN</td>\n",
       "    </tr>\n",
       "    <tr>\n",
       "      <th>1</th>\n",
       "      <td>00:00:00 18-Jan-2024</td>\n",
       "      <td>66402.79</td>\n",
       "      <td>63806.13</td>\n",
       "      <td>64732.31</td>\n",
       "      <td>NaN</td>\n",
       "      <td>2065.36</td>\n",
       "      <td>1984.59</td>\n",
       "      <td>2013.40</td>\n",
       "      <td>NaN</td>\n",
       "    </tr>\n",
       "    <tr>\n",
       "      <th>2</th>\n",
       "      <td>00:00:00 19-Dec-2023</td>\n",
       "      <td>67144.82</td>\n",
       "      <td>64366.76</td>\n",
       "      <td>64614.72</td>\n",
       "      <td>NaN</td>\n",
       "      <td>2088.44</td>\n",
       "      <td>2002.03</td>\n",
       "      <td>2009.74</td>\n",
       "      <td>NaN</td>\n",
       "    </tr>\n",
       "    <tr>\n",
       "      <th>3</th>\n",
       "      <td>00:00:00 19-Nov-2023</td>\n",
       "      <td>68908.78</td>\n",
       "      <td>63199.69</td>\n",
       "      <td>65192.23</td>\n",
       "      <td>NaN</td>\n",
       "      <td>2143.30</td>\n",
       "      <td>1965.73</td>\n",
       "      <td>2027.71</td>\n",
       "      <td>NaN</td>\n",
       "    </tr>\n",
       "    <tr>\n",
       "      <th>4</th>\n",
       "      <td>00:00:00 20-Oct-2023</td>\n",
       "      <td>64602.99</td>\n",
       "      <td>61987.52</td>\n",
       "      <td>63686.13</td>\n",
       "      <td>NaN</td>\n",
       "      <td>2009.38</td>\n",
       "      <td>1928.03</td>\n",
       "      <td>1980.86</td>\n",
       "      <td>NaN</td>\n",
       "    </tr>\n",
       "  </tbody>\n",
       "</table>\n",
       "</div>"
      ],
      "text/plain": [
       "                   Date  High (kg)  Low (kg)  Close (kg)  Unnamed: 4  \\\n",
       "0  00:00:00 17-Feb-2024   65931.94  64662.22    65723.84         NaN   \n",
       "1  00:00:00 18-Jan-2024   66402.79  63806.13    64732.31         NaN   \n",
       "2  00:00:00 19-Dec-2023   67144.82  64366.76    64614.72         NaN   \n",
       "3  00:00:00 19-Nov-2023   68908.78  63199.69    65192.23         NaN   \n",
       "4  00:00:00 20-Oct-2023   64602.99  61987.52    63686.13         NaN   \n",
       "\n",
       "   High (troy oz)  Low (troy oz)  Close (troy oz)  Unnamed: 8  \n",
       "0         2050.71        2011.22          2044.24         NaN  \n",
       "1         2065.36        1984.59          2013.40         NaN  \n",
       "2         2088.44        2002.03          2009.74         NaN  \n",
       "3         2143.30        1965.73          2027.71         NaN  \n",
       "4         2009.38        1928.03          1980.86         NaN  "
      ]
     },
     "execution_count": 11,
     "metadata": {},
     "output_type": "execute_result"
    }
   ],
   "source": [
    "gold.head()"
   ]
  },
  {
   "cell_type": "code",
   "execution_count": 12,
   "metadata": {},
   "outputs": [
    {
     "name": "stdout",
     "output_type": "stream",
     "text": [
      "<class 'pandas.core.frame.DataFrame'>\n",
      "RangeIndex: 240 entries, 0 to 239\n",
      "Data columns (total 9 columns):\n",
      " #   Column           Non-Null Count  Dtype  \n",
      "---  ------           --------------  -----  \n",
      " 0   Date             240 non-null    object \n",
      " 1   High (kg)        240 non-null    float64\n",
      " 2   Low (kg)         240 non-null    float64\n",
      " 3   Close (kg)       240 non-null    float64\n",
      " 4   Unnamed: 4       0 non-null      float64\n",
      " 5   High (troy oz)   240 non-null    float64\n",
      " 6   Low (troy oz)    240 non-null    float64\n",
      " 7   Close (troy oz)  240 non-null    float64\n",
      " 8   Unnamed: 8       0 non-null      float64\n",
      "dtypes: float64(8), object(1)\n",
      "memory usage: 17.0+ KB\n"
     ]
    }
   ],
   "source": [
    "gold.info()"
   ]
  },
  {
   "cell_type": "code",
   "execution_count": 13,
   "metadata": {},
   "outputs": [],
   "source": [
    "gold = gold.drop(columns=['High (kg)','Low (kg)','Unnamed: 4','High (troy oz)','Low (troy oz)','Close (troy oz)','Unnamed: 8'],axis=1)"
   ]
  },
  {
   "cell_type": "code",
   "execution_count": null,
   "metadata": {},
   "outputs": [],
   "source": [
    "########################################################################################################"
   ]
  },
  {
   "cell_type": "code",
   "execution_count": 18,
   "metadata": {},
   "outputs": [
    {
     "data": {
      "text/html": [
       "<div>\n",
       "<style scoped>\n",
       "    .dataframe tbody tr th:only-of-type {\n",
       "        vertical-align: middle;\n",
       "    }\n",
       "\n",
       "    .dataframe tbody tr th {\n",
       "        vertical-align: top;\n",
       "    }\n",
       "\n",
       "    .dataframe thead th {\n",
       "        text-align: right;\n",
       "    }\n",
       "</style>\n",
       "<table border=\"1\" class=\"dataframe\">\n",
       "  <thead>\n",
       "    <tr style=\"text-align: right;\">\n",
       "      <th></th>\n",
       "      <th>Date</th>\n",
       "      <th>Close (kg)</th>\n",
       "    </tr>\n",
       "  </thead>\n",
       "  <tbody>\n",
       "    <tr>\n",
       "      <th>239</th>\n",
       "      <td>00:00:00 01-Jul-2004</td>\n",
       "      <td>12573.06</td>\n",
       "    </tr>\n",
       "    <tr>\n",
       "      <th>238</th>\n",
       "      <td>00:00:00 31-Jul-2004</td>\n",
       "      <td>12980.97</td>\n",
       "    </tr>\n",
       "    <tr>\n",
       "      <th>237</th>\n",
       "      <td>00:00:00 30-Aug-2004</td>\n",
       "      <td>13267.13</td>\n",
       "    </tr>\n",
       "    <tr>\n",
       "      <th>236</th>\n",
       "      <td>00:00:00 29-Sep-2004</td>\n",
       "      <td>13638.03</td>\n",
       "    </tr>\n",
       "    <tr>\n",
       "      <th>235</th>\n",
       "      <td>00:00:00 29-Oct-2004</td>\n",
       "      <td>14514.13</td>\n",
       "    </tr>\n",
       "    <tr>\n",
       "      <th>...</th>\n",
       "      <td>...</td>\n",
       "      <td>...</td>\n",
       "    </tr>\n",
       "    <tr>\n",
       "      <th>4</th>\n",
       "      <td>00:00:00 20-Oct-2023</td>\n",
       "      <td>63686.13</td>\n",
       "    </tr>\n",
       "    <tr>\n",
       "      <th>3</th>\n",
       "      <td>00:00:00 19-Nov-2023</td>\n",
       "      <td>65192.23</td>\n",
       "    </tr>\n",
       "    <tr>\n",
       "      <th>2</th>\n",
       "      <td>00:00:00 19-Dec-2023</td>\n",
       "      <td>64614.72</td>\n",
       "    </tr>\n",
       "    <tr>\n",
       "      <th>1</th>\n",
       "      <td>00:00:00 18-Jan-2024</td>\n",
       "      <td>64732.31</td>\n",
       "    </tr>\n",
       "    <tr>\n",
       "      <th>0</th>\n",
       "      <td>00:00:00 17-Feb-2024</td>\n",
       "      <td>65723.84</td>\n",
       "    </tr>\n",
       "  </tbody>\n",
       "</table>\n",
       "<p>240 rows × 2 columns</p>\n",
       "</div>"
      ],
      "text/plain": [
       "                     Date  Close (kg)\n",
       "239  00:00:00 01-Jul-2004    12573.06\n",
       "238  00:00:00 31-Jul-2004    12980.97\n",
       "237  00:00:00 30-Aug-2004    13267.13\n",
       "236  00:00:00 29-Sep-2004    13638.03\n",
       "235  00:00:00 29-Oct-2004    14514.13\n",
       "..                    ...         ...\n",
       "4    00:00:00 20-Oct-2023    63686.13\n",
       "3    00:00:00 19-Nov-2023    65192.23\n",
       "2    00:00:00 19-Dec-2023    64614.72\n",
       "1    00:00:00 18-Jan-2024    64732.31\n",
       "0    00:00:00 17-Feb-2024    65723.84\n",
       "\n",
       "[240 rows x 2 columns]"
      ]
     },
     "execution_count": 18,
     "metadata": {},
     "output_type": "execute_result"
    }
   ],
   "source": [
    "gold"
   ]
  },
  {
   "cell_type": "code",
   "execution_count": 16,
   "metadata": {},
   "outputs": [
    {
     "data": {
      "text/html": [
       "<div>\n",
       "<style scoped>\n",
       "    .dataframe tbody tr th:only-of-type {\n",
       "        vertical-align: middle;\n",
       "    }\n",
       "\n",
       "    .dataframe tbody tr th {\n",
       "        vertical-align: top;\n",
       "    }\n",
       "\n",
       "    .dataframe thead th {\n",
       "        text-align: right;\n",
       "    }\n",
       "</style>\n",
       "<table border=\"1\" class=\"dataframe\">\n",
       "  <thead>\n",
       "    <tr style=\"text-align: right;\">\n",
       "      <th></th>\n",
       "      <th>Date</th>\n",
       "      <th>Close (kg)</th>\n",
       "    </tr>\n",
       "  </thead>\n",
       "  <tbody>\n",
       "    <tr>\n",
       "      <th>4</th>\n",
       "      <td>00:00:00 20-Oct-2023</td>\n",
       "      <td>63686.13</td>\n",
       "    </tr>\n",
       "    <tr>\n",
       "      <th>3</th>\n",
       "      <td>00:00:00 19-Nov-2023</td>\n",
       "      <td>65192.23</td>\n",
       "    </tr>\n",
       "    <tr>\n",
       "      <th>2</th>\n",
       "      <td>00:00:00 19-Dec-2023</td>\n",
       "      <td>64614.72</td>\n",
       "    </tr>\n",
       "    <tr>\n",
       "      <th>1</th>\n",
       "      <td>00:00:00 18-Jan-2024</td>\n",
       "      <td>64732.31</td>\n",
       "    </tr>\n",
       "    <tr>\n",
       "      <th>0</th>\n",
       "      <td>00:00:00 17-Feb-2024</td>\n",
       "      <td>65723.84</td>\n",
       "    </tr>\n",
       "  </tbody>\n",
       "</table>\n",
       "</div>"
      ],
      "text/plain": [
       "                   Date  Close (kg)\n",
       "4  00:00:00 20-Oct-2023    63686.13\n",
       "3  00:00:00 19-Nov-2023    65192.23\n",
       "2  00:00:00 19-Dec-2023    64614.72\n",
       "1  00:00:00 18-Jan-2024    64732.31\n",
       "0  00:00:00 17-Feb-2024    65723.84"
      ]
     },
     "execution_count": 16,
     "metadata": {},
     "output_type": "execute_result"
    }
   ],
   "source": [
    "gold.tail()"
   ]
  },
  {
   "cell_type": "code",
   "execution_count": 15,
   "metadata": {},
   "outputs": [],
   "source": [
    "gold = gold.iloc[::-1]"
   ]
  },
  {
   "cell_type": "code",
   "execution_count": 17,
   "metadata": {},
   "outputs": [
    {
     "data": {
      "image/png": "[encoded data removed]",
      "text/plain": [
       "<Figure size 640x480 with 1 Axes>"
      ]
     },
     "metadata": {},
     "output_type": "display_data"
    }
   ],
   "source": [
    "gold.plot(x=\"Date\",y=\"Close (kg)\",kind=\"line\")\n",
    "plt.xticks(rotation=45)\n",
    "plt.show()"
   ]
  },
  {
   "cell_type": "code",
   "execution_count": 20,
   "metadata": {},
   "outputs": [],
   "source": [
    "gold['Date'] = gold['Date'].str.slice(9)"
   ]
  },
  {
   "cell_type": "code",
   "execution_count": 22,
   "metadata": {},
   "outputs": [
    {
     "name": "stdout",
     "output_type": "stream",
     "text": [
      "<class 'pandas.core.frame.DataFrame'>\n",
      "RangeIndex: 240 entries, 239 to 0\n",
      "Data columns (total 2 columns):\n",
      " #   Column      Non-Null Count  Dtype  \n",
      "---  ------      --------------  -----  \n",
      " 0   Date        240 non-null    object \n",
      " 1   Close (kg)  240 non-null    float64\n",
      "dtypes: float64(1), object(1)\n",
      "memory usage: 3.9+ KB\n"
     ]
    }
   ],
   "source": [
    "gold.info()"
   ]
  },
  {
   "cell_type": "code",
   "execution_count": 29,
   "metadata": {},
   "outputs": [
    {
     "data": {
      "text/html": [
       "<div>\n",
       "<style scoped>\n",
       "    .dataframe tbody tr th:only-of-type {\n",
       "        vertical-align: middle;\n",
       "    }\n",
       "\n",
       "    .dataframe tbody tr th {\n",
       "        vertical-align: top;\n",
       "    }\n",
       "\n",
       "    .dataframe thead th {\n",
       "        text-align: right;\n",
       "    }\n",
       "</style>\n",
       "<table border=\"1\" class=\"dataframe\">\n",
       "  <thead>\n",
       "    <tr style=\"text-align: right;\">\n",
       "      <th></th>\n",
       "      <th>Date</th>\n",
       "      <th>Close (kg)</th>\n",
       "    </tr>\n",
       "  </thead>\n",
       "  <tbody>\n",
       "    <tr>\n",
       "      <th>239</th>\n",
       "      <td>01-Jul-2004</td>\n",
       "      <td>12573.06</td>\n",
       "    </tr>\n",
       "    <tr>\n",
       "      <th>238</th>\n",
       "      <td>31-Jul-2004</td>\n",
       "      <td>12980.97</td>\n",
       "    </tr>\n",
       "    <tr>\n",
       "      <th>237</th>\n",
       "      <td>30-Aug-2004</td>\n",
       "      <td>13267.13</td>\n",
       "    </tr>\n",
       "    <tr>\n",
       "      <th>236</th>\n",
       "      <td>29-Sep-2004</td>\n",
       "      <td>13638.03</td>\n",
       "    </tr>\n",
       "    <tr>\n",
       "      <th>235</th>\n",
       "      <td>29-Oct-2004</td>\n",
       "      <td>14514.13</td>\n",
       "    </tr>\n",
       "  </tbody>\n",
       "</table>\n",
       "</div>"
      ],
      "text/plain": [
       "            Date  Close (kg)\n",
       "239  01-Jul-2004    12573.06\n",
       "238  31-Jul-2004    12980.97\n",
       "237  30-Aug-2004    13267.13\n",
       "236  29-Sep-2004    13638.03\n",
       "235  29-Oct-2004    14514.13"
      ]
     },
     "execution_count": 29,
     "metadata": {},
     "output_type": "execute_result"
    }
   ],
   "source": [
    "gold.head()"
   ]
  },
  {
   "cell_type": "code",
   "execution_count": 19,
   "metadata": {},
   "outputs": [],
   "source": [
    "########################################################################################################"
   ]
  },
  {
   "cell_type": "markdown",
   "metadata": {},
   "source": [
    "Standard deviation for last 3, 5, and 10 years."
   ]
  },
  {
   "cell_type": "markdown",
   "metadata": {},
   "source": [
    "3 years"
   ]
  },
  {
   "cell_type": "code",
   "execution_count": 24,
   "metadata": {},
   "outputs": [
    {
     "name": "stdout",
     "output_type": "stream",
     "text": [
      "16712.60951069359\n",
      "16712.60951069359\n"
     ]
    }
   ],
   "source": [
    "print(statistics.stdev(gold[gold['Date']>='2021-02-17']['Close (kg)']))\n",
    "print(gold[gold['Date']>='2021-02-17']['Close (kg)'].std())"
   ]
  },
  {
   "cell_type": "markdown",
   "metadata": {},
   "source": [
    "5 years"
   ]
  },
  {
   "cell_type": "code",
   "execution_count": 53,
   "metadata": {},
   "outputs": [
    {
     "name": "stdout",
     "output_type": "stream",
     "text": [
      "16712.60951069359\n",
      "16712.60951069359\n"
     ]
    }
   ],
   "source": [
    "print(statistics.stdev(gold[gold['Date']>='2019-02-01']['Close (kg)']))\n",
    "print(gold[gold['Date']>='2019-02-01']['Close (kg)'].std())"
   ]
  },
  {
   "cell_type": "markdown",
   "metadata": {},
   "source": [
    "10 years"
   ]
  },
  {
   "cell_type": "code",
   "execution_count": 26,
   "metadata": {},
   "outputs": [
    {
     "name": "stdout",
     "output_type": "stream",
     "text": [
      "16712.60951069359\n",
      "16712.60951069359\n"
     ]
    }
   ],
   "source": [
    "print(statistics.stdev(gold[gold['Date']>='2014-02-17']['Close (kg)']))\n",
    "print(gold[gold['Date']>='2014-02-17']['Close (kg)'].std())"
   ]
  },
  {
   "cell_type": "code",
   "execution_count": 27,
   "metadata": {},
   "outputs": [
    {
     "name": "stdout",
     "output_type": "stream",
     "text": [
      "40600.25760416667\n",
      "40600.25760416667\n"
     ]
    }
   ],
   "source": [
    "print(statistics.mean(gold[gold['Date']>='2014-02-17']['Close (kg)']))\n",
    "print(gold[gold['Date']>='2014-02-17']['Close (kg)'].mean())"
   ]
  },
  {
   "cell_type": "code",
   "execution_count": 28,
   "metadata": {},
   "outputs": [],
   "source": [
    "########################################################################################################"
   ]
  },
  {
   "cell_type": "markdown",
   "metadata": {},
   "source": [
    "Growth over last 3, 5, and 10 years?"
   ]
  },
  {
   "cell_type": "markdown",
   "metadata": {},
   "source": [
    "3 years"
   ]
  },
  {
   "cell_type": "code",
   "execution_count": 30,
   "metadata": {},
   "outputs": [
    {
     "data": {
      "text/html": [
       "<div>\n",
       "<style scoped>\n",
       "    .dataframe tbody tr th:only-of-type {\n",
       "        vertical-align: middle;\n",
       "    }\n",
       "\n",
       "    .dataframe tbody tr th {\n",
       "        vertical-align: top;\n",
       "    }\n",
       "\n",
       "    .dataframe thead th {\n",
       "        text-align: right;\n",
       "    }\n",
       "</style>\n",
       "<table border=\"1\" class=\"dataframe\">\n",
       "  <thead>\n",
       "    <tr style=\"text-align: right;\">\n",
       "      <th></th>\n",
       "      <th>Date</th>\n",
       "      <th>Close (kg)</th>\n",
       "    </tr>\n",
       "  </thead>\n",
       "  <tbody>\n",
       "    <tr>\n",
       "      <th>0</th>\n",
       "      <td>17-Feb-2024</td>\n",
       "      <td>65723.84</td>\n",
       "    </tr>\n",
       "  </tbody>\n",
       "</table>\n",
       "</div>"
      ],
      "text/plain": [
       "          Date  Close (kg)\n",
       "0  17-Feb-2024    65723.84"
      ]
     },
     "execution_count": 30,
     "metadata": {},
     "output_type": "execute_result"
    }
   ],
   "source": [
    "gold[gold['Date']=='17-Feb-2024']"
   ]
  },
  {
   "cell_type": "code",
   "execution_count": 40,
   "metadata": {},
   "outputs": [
    {
     "data": {
      "text/html": [
       "<div>\n",
       "<style scoped>\n",
       "    .dataframe tbody tr th:only-of-type {\n",
       "        vertical-align: middle;\n",
       "    }\n",
       "\n",
       "    .dataframe tbody tr th {\n",
       "        vertical-align: top;\n",
       "    }\n",
       "\n",
       "    .dataframe thead th {\n",
       "        text-align: right;\n",
       "    }\n",
       "</style>\n",
       "<table border=\"1\" class=\"dataframe\">\n",
       "  <thead>\n",
       "    <tr style=\"text-align: right;\">\n",
       "      <th></th>\n",
       "      <th>Date</th>\n",
       "      <th>Close (kg)</th>\n",
       "    </tr>\n",
       "  </thead>\n",
       "  <tbody>\n",
       "    <tr>\n",
       "      <th>37</th>\n",
       "      <td>02-Feb-2021</td>\n",
       "      <td>54995.3</td>\n",
       "    </tr>\n",
       "  </tbody>\n",
       "</table>\n",
       "</div>"
      ],
      "text/plain": [
       "           Date  Close (kg)\n",
       "37  02-Feb-2021     54995.3"
      ]
     },
     "execution_count": 40,
     "metadata": {},
     "output_type": "execute_result"
    }
   ],
   "source": [
    "gold[gold['Date']=='02-Feb-2021']"
   ]
  },
  {
   "cell_type": "code",
   "execution_count": 41,
   "metadata": {},
   "outputs": [
    {
     "data": {
      "text/plain": [
       "0.19508103419746767"
      ]
     },
     "execution_count": 41,
     "metadata": {},
     "output_type": "execute_result"
    }
   ],
   "source": [
    "(65723.84-54995.3)/54995.3"
   ]
  },
  {
   "cell_type": "markdown",
   "metadata": {},
   "source": [
    "5 years"
   ]
  },
  {
   "cell_type": "code",
   "execution_count": 43,
   "metadata": {},
   "outputs": [
    {
     "data": {
      "text/html": [
       "<div>\n",
       "<style scoped>\n",
       "    .dataframe tbody tr th:only-of-type {\n",
       "        vertical-align: middle;\n",
       "    }\n",
       "\n",
       "    .dataframe tbody tr th {\n",
       "        vertical-align: top;\n",
       "    }\n",
       "\n",
       "    .dataframe thead th {\n",
       "        text-align: right;\n",
       "    }\n",
       "</style>\n",
       "<table border=\"1\" class=\"dataframe\">\n",
       "  <thead>\n",
       "    <tr style=\"text-align: right;\">\n",
       "      <th></th>\n",
       "      <th>Date</th>\n",
       "      <th>Close (kg)</th>\n",
       "    </tr>\n",
       "  </thead>\n",
       "  <tbody>\n",
       "    <tr>\n",
       "      <th>61</th>\n",
       "      <td>13-Feb-2019</td>\n",
       "      <td>41673.07</td>\n",
       "    </tr>\n",
       "  </tbody>\n",
       "</table>\n",
       "</div>"
      ],
      "text/plain": [
       "           Date  Close (kg)\n",
       "61  13-Feb-2019    41673.07"
      ]
     },
     "execution_count": 43,
     "metadata": {},
     "output_type": "execute_result"
    }
   ],
   "source": [
    "gold[gold['Date']=='13-Feb-2019']"
   ]
  },
  {
   "cell_type": "code",
   "execution_count": 44,
   "metadata": {},
   "outputs": [
    {
     "data": {
      "text/plain": [
       "0.5771297866943808"
      ]
     },
     "execution_count": 44,
     "metadata": {},
     "output_type": "execute_result"
    }
   ],
   "source": [
    "(65723.84-41673.07)/41673.07"
   ]
  },
  {
   "cell_type": "markdown",
   "metadata": {},
   "source": [
    "10 years"
   ]
  },
  {
   "cell_type": "code",
   "execution_count": 45,
   "metadata": {},
   "outputs": [
    {
     "data": {
      "text/html": [
       "<div>\n",
       "<style scoped>\n",
       "    .dataframe tbody tr th:only-of-type {\n",
       "        vertical-align: middle;\n",
       "    }\n",
       "\n",
       "    .dataframe tbody tr th {\n",
       "        vertical-align: top;\n",
       "    }\n",
       "\n",
       "    .dataframe thead th {\n",
       "        text-align: right;\n",
       "    }\n",
       "</style>\n",
       "<table border=\"1\" class=\"dataframe\">\n",
       "  <thead>\n",
       "    <tr style=\"text-align: right;\">\n",
       "      <th></th>\n",
       "      <th>Date</th>\n",
       "      <th>Close (kg)</th>\n",
       "    </tr>\n",
       "  </thead>\n",
       "  <tbody>\n",
       "    <tr>\n",
       "      <th>239</th>\n",
       "      <td>01-Jul-2004</td>\n",
       "      <td>12573.06</td>\n",
       "    </tr>\n",
       "  </tbody>\n",
       "</table>\n",
       "</div>"
      ],
      "text/plain": [
       "            Date  Close (kg)\n",
       "239  01-Jul-2004    12573.06"
      ]
     },
     "execution_count": 45,
     "metadata": {},
     "output_type": "execute_result"
    }
   ],
   "source": [
    "gold[gold['Date']=='01-Jul-2004']"
   ]
  },
  {
   "cell_type": "code",
   "execution_count": 46,
   "metadata": {},
   "outputs": [
    {
     "data": {
      "text/plain": [
       "4.227354359241108"
      ]
     },
     "execution_count": 46,
     "metadata": {},
     "output_type": "execute_result"
    }
   ],
   "source": [
    "(65723.84-12573.06)/12573.06"
   ]
  },
  {
   "cell_type": "code",
   "execution_count": 47,
   "metadata": {},
   "outputs": [],
   "source": [
    "########################################################################################################"
   ]
  },
  {
   "cell_type": "markdown",
   "metadata": {},
   "source": [
    "How did gold react to COVID-19 pandemic announcement?"
   ]
  },
  {
   "cell_type": "code",
   "execution_count": 51,
   "metadata": {},
   "outputs": [
    {
     "name": "stderr",
     "output_type": "stream",
     "text": [
      "/var/folders/73/8ylhfl6151q5ccx79mch6ddc0000gn/T/ipykernel_45002/1825228591.py:1: UserWarning: Boolean Series key will be reindexed to match DataFrame index.\n",
      "  sns.lineplot(x=gold[gold['Date']>='2020-02-01'][gold['Date']<='2024-04-01']['Date'],y=gold[gold['Date']>='2020-02-01'][gold['Date']<='2024-04-01']['Close (kg)'])\n",
      "/var/folders/73/8ylhfl6151q5ccx79mch6ddc0000gn/T/ipykernel_45002/1825228591.py:1: UserWarning: Boolean Series key will be reindexed to match DataFrame index.\n",
      "  sns.lineplot(x=gold[gold['Date']>='2020-02-01'][gold['Date']<='2024-04-01']['Date'],y=gold[gold['Date']>='2020-02-01'][gold['Date']<='2024-04-01']['Close (kg)'])\n"
     ]
    },
    {
     "data": {
      "image/png": "[encoded data removed]",
      "text/plain": [
       "<Figure size 640x480 with 1 Axes>"
      ]
     },
     "metadata": {},
     "output_type": "display_data"
    }
   ],
   "source": [
    "sns.lineplot(x=gold[gold['Date']>='2020-02-01'][gold['Date']<='2024-04-01']['Date'],y=gold[gold['Date']>='2020-02-01'][gold['Date']<='2024-04-01']['Close (kg)'])\n",
    "plt.grid(True)\n",
    "plt.xticks(rotation=90)\n",
    "plt.show()"
   ]
  },
  {
   "cell_type": "code",
   "execution_count": 54,
   "metadata": {},
   "outputs": [
    {
     "data": {
      "text/html": [
       "<div>\n",
       "<style scoped>\n",
       "    .dataframe tbody tr th:only-of-type {\n",
       "        vertical-align: middle;\n",
       "    }\n",
       "\n",
       "    .dataframe tbody tr th {\n",
       "        vertical-align: top;\n",
       "    }\n",
       "\n",
       "    .dataframe thead th {\n",
       "        text-align: right;\n",
       "    }\n",
       "</style>\n",
       "<table border=\"1\" class=\"dataframe\">\n",
       "  <thead>\n",
       "    <tr style=\"text-align: right;\">\n",
       "      <th></th>\n",
       "      <th>Date</th>\n",
       "      <th>Close (kg)</th>\n",
       "    </tr>\n",
       "  </thead>\n",
       "  <tbody>\n",
       "    <tr>\n",
       "      <th>239</th>\n",
       "      <td>01-Jul-2004</td>\n",
       "      <td>12573.06</td>\n",
       "    </tr>\n",
       "    <tr>\n",
       "      <th>238</th>\n",
       "      <td>31-Jul-2004</td>\n",
       "      <td>12980.97</td>\n",
       "    </tr>\n",
       "    <tr>\n",
       "      <th>237</th>\n",
       "      <td>30-Aug-2004</td>\n",
       "      <td>13267.13</td>\n",
       "    </tr>\n",
       "    <tr>\n",
       "      <th>236</th>\n",
       "      <td>29-Sep-2004</td>\n",
       "      <td>13638.03</td>\n",
       "    </tr>\n",
       "    <tr>\n",
       "      <th>235</th>\n",
       "      <td>29-Oct-2004</td>\n",
       "      <td>14514.13</td>\n",
       "    </tr>\n",
       "    <tr>\n",
       "      <th>...</th>\n",
       "      <td>...</td>\n",
       "      <td>...</td>\n",
       "    </tr>\n",
       "    <tr>\n",
       "      <th>4</th>\n",
       "      <td>20-Oct-2023</td>\n",
       "      <td>63686.13</td>\n",
       "    </tr>\n",
       "    <tr>\n",
       "      <th>3</th>\n",
       "      <td>19-Nov-2023</td>\n",
       "      <td>65192.23</td>\n",
       "    </tr>\n",
       "    <tr>\n",
       "      <th>2</th>\n",
       "      <td>19-Dec-2023</td>\n",
       "      <td>64614.72</td>\n",
       "    </tr>\n",
       "    <tr>\n",
       "      <th>1</th>\n",
       "      <td>18-Jan-2024</td>\n",
       "      <td>64732.31</td>\n",
       "    </tr>\n",
       "    <tr>\n",
       "      <th>0</th>\n",
       "      <td>17-Feb-2024</td>\n",
       "      <td>65723.84</td>\n",
       "    </tr>\n",
       "  </tbody>\n",
       "</table>\n",
       "<p>236 rows × 2 columns</p>\n",
       "</div>"
      ],
      "text/plain": [
       "            Date  Close (kg)\n",
       "239  01-Jul-2004    12573.06\n",
       "238  31-Jul-2004    12980.97\n",
       "237  30-Aug-2004    13267.13\n",
       "236  29-Sep-2004    13638.03\n",
       "235  29-Oct-2004    14514.13\n",
       "..           ...         ...\n",
       "4    20-Oct-2023    63686.13\n",
       "3    19-Nov-2023    65192.23\n",
       "2    19-Dec-2023    64614.72\n",
       "1    18-Jan-2024    64732.31\n",
       "0    17-Feb-2024    65723.84\n",
       "\n",
       "[236 rows x 2 columns]"
      ]
     },
     "execution_count": 54,
     "metadata": {},
     "output_type": "execute_result"
    }
   ],
   "source": [
    "gold[gold['Date']>='01-Jan-2022']"
   ]
  },
  {
   "cell_type": "code",
   "execution_count": null,
   "metadata": {},
   "outputs": [],
   "source": []
  }
 ],
 "metadata": {
  "kernelspec": {
   "display_name": "base",
   "language": "python",
   "name": "python3"
  },
  "language_info": {
   "codemirror_mode": {
    "name": "ipython",
    "version": 3
   },
   "file_extension": ".py",
   "mimetype": "text/x-python",
   "name": "python",
   "nbconvert_exporter": "python",
   "pygments_lexer": "ipython3",
   "version": "3.11.5"
  }
 },
 "nbformat": 4,
 "nbformat_minor": 2
}
